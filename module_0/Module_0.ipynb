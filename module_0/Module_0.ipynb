{
 "cells": [
  {
   "cell_type": "code",
   "execution_count": 66,
   "metadata": {},
   "outputs": [],
   "source": [
    "import numpy as np\n",
    "def game_core_v3(number):\n",
    "    '''Try to count by tens'''\n",
    "    count=1\n",
    "    predict = np.random.randint(1,101)\n",
    "    while number != predict:\n",
    "        count+=1\n",
    "        if abs(number-predict) < 10:  \n",
    "            if number > predict: \n",
    "                predict += 1\n",
    "            elif number < predict: \n",
    "                predict -= 1\n",
    "        elif number > predict: \n",
    "            predict += 10\n",
    "        elif number < predict: \n",
    "            predict -= 10\n",
    "    return (count)"
   ]
  },
  {
   "cell_type": "code",
   "execution_count": 72,
   "metadata": {},
   "outputs": [],
   "source": [
    "import numpy as np\n",
    "def game_core_v4 (number):\n",
    "    '''Using bisection method'''\n",
    "    count=1\n",
    "    start=1 \n",
    "    finish=100 \n",
    "    while number != (start + finish)//2:\n",
    "        middle = (start + finish)//2\n",
    "        count+=1\n",
    "        if number > middle:\n",
    "            start = (middle + 1) \n",
    "        elif number < middle:\n",
    "            finish = (middle - 1) \n",
    "    return count"
   ]
  },
  {
   "cell_type": "code",
   "execution_count": 74,
   "metadata": {},
   "outputs": [],
   "source": [
    "def score_game(game_core):\n",
    "    '''Start game 1000 times to find out how long game will guess the number'''\n",
    "    count_ls = []\n",
    "    np.random.seed(1)  # fix RANDOM SEED to repeat that experiment\n",
    "    random_array = np.random.randint(1,101, size=(1000))\n",
    "    for number in random_array:\n",
    "        count_ls.append(game_core(number))\n",
    "    score = int(np.mean(count_ls))\n",
    "    print(f\"Ваш алгоритм угадывает число в среднем за {score} попыток\")\n",
    "    return(score)"
   ]
  },
  {
   "cell_type": "code",
   "execution_count": 75,
   "metadata": {},
   "outputs": [
    {
     "name": "stdout",
     "output_type": "stream",
     "text": [
      "Ваш алгоритм угадывает число в среднем за 5 попыток\n"
     ]
    },
    {
     "data": {
      "text/plain": [
       "5"
      ]
     },
     "execution_count": 75,
     "metadata": {},
     "output_type": "execute_result"
    }
   ],
   "source": [
    "# Проверяем\n",
    "score_game(game_core_v4)"
   ]
  },
  {
   "cell_type": "code",
   "execution_count": null,
   "metadata": {},
   "outputs": [],
   "source": []
  }
 ],
 "metadata": {
  "kernelspec": {
   "display_name": "Python 3",
   "language": "python",
   "name": "python3"
  },
  "language_info": {
   "codemirror_mode": {
    "name": "ipython",
    "version": 3
   },
   "file_extension": ".py",
   "mimetype": "text/x-python",
   "name": "python",
   "nbconvert_exporter": "python",
   "pygments_lexer": "ipython3",
   "version": "3.8.5"
  }
 },
 "nbformat": 4,
 "nbformat_minor": 4
}
