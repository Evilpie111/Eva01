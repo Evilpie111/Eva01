{
 "cells": [
  {
   "cell_type": "code",
   "execution_count": 35,
   "metadata": {},
   "outputs": [],
   "source": [
    "import numpy as np\n",
    "def game_core_v3(number):\n",
    "    count = 1\n",
    "    predict = np.random.randint(1,101)\n",
    "    print('ключ {}'.format(predict))\n",
    "    print('')\n",
    "    start=1\n",
    "    finish=100\n",
    "    \n",
    "    while number != predict:\n",
    "        count+=1\n",
    "        print('число {}'.format(number))\n",
    "        print('')\n",
    "        if abs(number-predict)<10:  \n",
    "            if number > predict: \n",
    "                predict += 1\n",
    "                \n",
    "            elif number < predict: \n",
    "                predict -= 1\n",
    "                \n",
    "        elif number > predict: \n",
    "            predict += 10\n",
    "            \n",
    "        elif number < predict: \n",
    "            predict -= 10\n",
    "        print (\"попытка {} число {} ключ {}\".format(count, number, predict))\n",
    "    return (count) # выход из цикла, если угадали\n"
   ]
  },
  {
   "cell_type": "code",
   "execution_count": 43,
   "metadata": {},
   "outputs": [
    {
     "name": "stdout",
     "output_type": "stream",
     "text": [
      "ключ 1\n",
      "\n",
      "число 68\n",
      "\n",
      "попытка 2 число 68 ключ 11\n",
      "число 68\n",
      "\n",
      "попытка 3 число 68 ключ 21\n",
      "число 68\n",
      "\n",
      "попытка 4 число 68 ключ 31\n",
      "число 68\n",
      "\n",
      "попытка 5 число 68 ключ 41\n",
      "число 68\n",
      "\n",
      "попытка 6 число 68 ключ 51\n",
      "число 68\n",
      "\n",
      "попытка 7 число 68 ключ 61\n",
      "число 68\n",
      "\n",
      "попытка 8 число 68 ключ 62\n",
      "число 68\n",
      "\n",
      "попытка 9 число 68 ключ 63\n",
      "число 68\n",
      "\n",
      "попытка 10 число 68 ключ 64\n",
      "число 68\n",
      "\n",
      "попытка 11 число 68 ключ 65\n",
      "число 68\n",
      "\n",
      "попытка 12 число 68 ключ 66\n",
      "число 68\n",
      "\n",
      "попытка 13 число 68 ключ 67\n",
      "число 68\n",
      "\n",
      "попытка 14 число 68 ключ 68\n"
     ]
    },
    {
     "data": {
      "text/plain": [
       "14"
      ]
     },
     "execution_count": 43,
     "metadata": {},
     "output_type": "execute_result"
    }
   ],
   "source": [
    "game_core_v3(68)"
   ]
  },
  {
   "cell_type": "code",
   "execution_count": 51,
   "metadata": {},
   "outputs": [],
   "source": [
    "import numpy as np\n",
    "def game_core_v4 (number):\n",
    "    count = 1\n",
    "    start = 1 \n",
    "    finish = 100 \n",
    "    while number != (start + finish)//2:\n",
    "        middle = ((start + finish)//2)\n",
    "        print (f\"попытка {count} середниа интервала {middle} начало{start} конец{finish}\")\n",
    "        count += 1\n",
    "        if number > middle:\n",
    "            start = (middle + 1) \n",
    "        elif number < middle:\n",
    "            finish = (middle - 1) \n",
    "        print (number)\n",
    "    return count"
   ]
  },
  {
   "cell_type": "code",
   "execution_count": 54,
   "metadata": {},
   "outputs": [
    {
     "name": "stdout",
     "output_type": "stream",
     "text": [
      "попытка 1 середниа интервала 50 начало1 конец100\n",
      "99\n",
      "попытка 2 середниа интервала 75 начало51 конец100\n",
      "99\n",
      "попытка 3 середниа интервала 88 начало76 конец100\n",
      "99\n",
      "попытка 4 середниа интервала 94 начало89 конец100\n",
      "99\n",
      "попытка 5 середниа интервала 97 начало95 конец100\n",
      "99\n"
     ]
    },
    {
     "data": {
      "text/plain": [
       "6"
      ]
     },
     "execution_count": 54,
     "metadata": {},
     "output_type": "execute_result"
    }
   ],
   "source": [
    "game_core_v4(99)"
   ]
  },
  {
   "cell_type": "code",
   "execution_count": null,
   "metadata": {},
   "outputs": [],
   "source": []
  },
  {
   "cell_type": "code",
   "execution_count": 45,
   "metadata": {},
   "outputs": [],
   "source": [
    "def score_game(game_core):\n",
    "    '''Запускаем игру 1000 раз, чтобы узнать, как быстро игра угадывает число'''\n",
    "    count_ls = []\n",
    "    np.random.seed(1)  # фиксируем RANDOM SEED, чтобы ваш эксперимент был воспроизводим!\n",
    "    random_array = np.random.randint(1,101, size=(1000))\n",
    "    for number in random_array:\n",
    "        count_ls.append(game_core(number))\n",
    "    score = int(np.mean(count_ls))\n",
    "    print(f\"Ваш алгоритм угадывает число в среднем за {score} попыток\")\n",
    "    return(score)"
   ]
  },
  {
   "cell_type": "code",
   "execution_count": 46,
   "metadata": {},
   "outputs": [
    {
     "name": "stdout",
     "output_type": "stream",
     "text": [
      "Ваш алгоритм угадывает число в среднем за 5 попыток\n"
     ]
    },
    {
     "data": {
      "text/plain": [
       "5"
      ]
     },
     "execution_count": 46,
     "metadata": {},
     "output_type": "execute_result"
    }
   ],
   "source": [
    "# Проверяем\n",
    "score_game(game_core_v4)"
   ]
  },
  {
   "cell_type": "code",
   "execution_count": null,
   "metadata": {},
   "outputs": [],
   "source": []
  }
 ],
 "metadata": {
  "kernelspec": {
   "display_name": "Python 3",
   "language": "python",
   "name": "python3"
  },
  "language_info": {
   "codemirror_mode": {
    "name": "ipython",
    "version": 3
   },
   "file_extension": ".py",
   "mimetype": "text/x-python",
   "name": "python",
   "nbconvert_exporter": "python",
   "pygments_lexer": "ipython3",
   "version": "3.8.5"
  }
 },
 "nbformat": 4,
 "nbformat_minor": 4
}
